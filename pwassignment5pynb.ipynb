{
  "nbformat": 4,
  "nbformat_minor": 0,
  "metadata": {
    "colab": {
      "provenance": []
    },
    "kernelspec": {
      "name": "python3",
      "display_name": "Python 3"
    },
    "language_info": {
      "name": "python"
    }
  },
  "cells": [
    {
      "cell_type": "markdown",
      "source": [
        "#Q1\n",
        "Object-Oriented Programming (OOP) is a programming paradigm that uses \"objects\" to design software. It is based on several key concepts that help organize and structure code in a way that is modular, reusable, and easier to maintain. It helps developers create more organized and manageable code, making it easier to develop complex software systems.\n",
        "\n",
        "\n",
        "\n",
        "\n"
      ],
      "metadata": {
        "id": "JIM0k4-Yb2Lo"
      }
    },
    {
      "cell_type": "markdown",
      "source": [
        "#Q2\n",
        "a class is a blueprint or template for creating objects. It defines a data structure that encapsulates both data (attributes or properties) and methods (functions or behaviors) that operate on that data."
      ],
      "metadata": {
        "id": "cxoOO5Gnc4x4"
      }
    },
    {
      "cell_type": "markdown",
      "source": [
        "#Q3\n",
        "In Object-Oriented Programming (OOP), an object is a fundamental building block that represents a specific instance of a class. Objects in OOP allow for modeling real-world entities and concepts, making it easier to design and manage complex software systems by promoting encapsulation, inheritance, and polymorphism."
      ],
      "metadata": {
        "id": "IbHtPTohdZo8"
      }
    },
    {
      "cell_type": "markdown",
      "source": [
        "#Q4\n",
        "Abstraction and encapsulation are two fundamental concepts in object-oriented programming (OOP), and while they are related, they serve different purposes. abstraction is about simplifying complexity by exposing only the necessary parts, while encapsulation is about protecting the internal state of an object and controlling access to it. Both concepts work together to enhance the design and maintainability of software systems."
      ],
      "metadata": {
        "id": "KcWWLiB-d_IM"
      }
    },
    {
      "cell_type": "markdown",
      "source": [
        "#Q5\n",
        "Dunder methods, short for \"double underscore\" methods, are special methods in Python that have double underscores at the beginning and end of their names. They are also known as \"magic methods\" or \"special methods.\" These methods allow you to define the behavior of your objects for built-in operations, such as addition, subtraction, string representation, and more.\n",
        "\n",
        "Dunder methods enable you to customize the behavior of your classes and make them work seamlessly with Python's built-in functions and operators."
      ],
      "metadata": {
        "id": "y_3mVt4Rek-J"
      }
    },
    {
      "cell_type": "markdown",
      "source": [
        "#Q6\n",
        "Inheritance in object-oriented programming (OOP) is a mechanism that allows a class (subclass) to inherit attributes and methods from another class (superclass). This promotes code reuse and establishes a hierarchical relationship between classes, enabling more organized and manageable code structures."
      ],
      "metadata": {
        "id": "8H0iDs8-e6yb"
      }
    },
    {
      "cell_type": "markdown",
      "source": [
        "#Q7\n",
        "allows objects of different classes to be treated as objects of a common superclass. It enables a single interface to represent different underlying forms (data types). The term \"polymorphism\" comes from the Greek words \"poly\" (meaning many) and \"morph\" (meaning forms), indicating that a single function or method can operate in different ways based on the object it is acting upon.\n",
        "\n"
      ],
      "metadata": {
        "id": "mk7tsENHff8B"
      }
    },
    {
      "cell_type": "markdown",
      "source": [
        "#Q8\n",
        "Encapsulation in Python is a fundamental concept of object-oriented programming (OOP) that restricts direct access to some of an object's attributes and methods. This is done to protect the integrity of the object's data and to hide its internal state from the outside world. In Python, encapsulation is achieved through the use of private and protected attributes and methods.\n",
        "\n"
      ],
      "metadata": {
        "id": "WuVPKfcxf6wz"
      }
    },
    {
      "cell_type": "markdown",
      "source": [
        "#Q9\n",
        "a constructor is a special method that is automatically called when an instance (or object) of a class is created. The primary purpose of a constructor is to initialize the attributes of the new object.\n"
      ],
      "metadata": {
        "id": "hWhy1w1fgV3F"
      }
    },
    {
      "cell_type": "markdown",
      "source": [
        "#Q10\n",
        "  In Python, class methods and static methods are two types of methods that are defined within a class but have different behaviors and use cases.\n",
        "   Class Methods: Use @classmethod, take cls as the first parameter, can access and modify class state.\n",
        "Static Methods: Use @staticmethod, do not take self or cls, cannot access or modify class or instance state.\n",
        "Both class methods and static methods provide a way to organize code within a class, but they serve different purposes and should be used accordingly.\n",
        "\n",
        "\n",
        "\n",
        "\n"
      ],
      "metadata": {
        "id": "OTk0YD3UgyKM"
      }
    },
    {
      "cell_type": "markdown",
      "source": [
        "#Q11\n",
        "Method overloading in Python refers to the ability to define multiple methods with the same name but with different parameters (i.e., different types or numbers of arguments). However, it's important to note that Python does not support method overloading in the same way that some other programming languages (like Java or C++) do."
      ],
      "metadata": {
        "id": "zUihGNzRhV0o"
      }
    },
    {
      "cell_type": "markdown",
      "source": [
        "#Q12\n",
        "Method overriding is a fundamental concept in Object-Oriented Programming (OOP) that allows a subclass (or derived class) to provide a specific implementation of a method that is already defined in its superclass (or base class). This means that the subclass can modify or extend the behavior of the inherited method."
      ],
      "metadata": {
        "id": "KW6lIWtM6C_l"
      }
    },
    {
      "cell_type": "markdown",
      "source": [
        "Q#13\n",
        " property decorator is a built-in decorator that allows you to define methods in a class that can be accessed like attributes. This is useful for encapsulating the internal state of an object and controlling access to it, while still providing a simple interface for users of the class.\n",
        "\n",
        "The @property decorator is used to define a getter method, and you can also define setter and deleter methods using the @<property_name>.setter and @<property_name>.deleter decorators, respectively.\n",
        "\n"
      ],
      "metadata": {
        "id": "xADY-tvN6SLu"
      }
    },
    {
      "cell_type": "markdown",
      "source": [
        "#Q14\n",
        "Polymorphism is a fundamental concept in Object-Oriented Programming (OOP) that allows objects of different classes to be treated as objects of a common superclass. It is important for several reasons: code reusibility, flexibility, simple interfaces.\n",
        "\n"
      ],
      "metadata": {
        "id": "qjKtKX9i68JA"
      }
    },
    {
      "cell_type": "markdown",
      "source": [
        "#Q15\n",
        "An abstract class in Python is a class that cannot be instantiated on its own and is meant to be subclassed. It serves as a blueprint for other classes. Abstract classes can define abstract methods, which are methods that are declared but contain no implementation. Subclasses that inherit from an abstract class must provide implementations for these abstract methods.\n",
        "\n",
        "In Python, you can create an abstract class using the abc module, which stands for Abstract Base Classes. The ABC class is used to define an abstract class, and the @abstractmethod decorator is used to define abstract methods."
      ],
      "metadata": {
        "id": "ZM7LtNRc7Pve"
      }
    },
    {
      "cell_type": "markdown",
      "source": [
        "#16\n",
        "Here are some of the key advantages of OOP: encapculation, abstraction, inheritance, modularity."
      ],
      "metadata": {
        "id": "PlK5Qqxj8YuE"
      }
    },
    {
      "cell_type": "markdown",
      "source": [
        "#Q17\n",
        "Class Variables: Shared across all instances, defined at the class level, and accessed via the class name or instance.\n",
        "Instance Variables: Unique to each instance, defined within instance methods, and accessed via self.\n"
      ],
      "metadata": {
        "id": "4qKW1-G086fQ"
      }
    },
    {
      "cell_type": "markdown",
      "source": [
        "#Q18\n",
        "Multiple inheritance in Python refers to a feature that allows a class to inherit attributes and methods from more than one parent class. This means that a derived class can have multiple base classes, enabling it to combine behaviors and properties from all of them.\n",
        "\n"
      ],
      "metadata": {
        "id": "qkfqFlC49SPC"
      }
    },
    {
      "cell_type": "markdown",
      "source": [
        "#Q19\n",
        "The __str__ method is intended to provide a \"nice\" or user-friendly string representation of an object. This representation is meant to be readable and is typically used for display purposes. Purpose: The __repr__ method is intended to provide an \"official\" string representation of an object that can ideally be used to recreate the object. It is more for developers and debugging purposes.\n",
        "\n"
      ],
      "metadata": {
        "id": "gPJyB-QU9hrY"
      }
    },
    {
      "cell_type": "markdown",
      "source": [
        "#Q20\n",
        "The super() function in Python is significant for several reasons, particularly in the context of object-oriented programming and inheritance. super() is used to call the parent class's __init__ and greet methods, demonstrating how it facilitates method calls in an inheritance hierarchy."
      ],
      "metadata": {
        "id": "9EjdMTan9zjW"
      }
    },
    {
      "cell_type": "markdown",
      "source": [
        "#Q21\n",
        "In Python, the __del__ method is a special method, also known as a destructor, that is called when an object is about to be destroyed. It is defined within a class and is used to define any cleanup actions that need to be performed before the object is removed from memory.\n",
        "resource management, custom cleanup logic.\n"
      ],
      "metadata": {
        "id": "twi7rYFr-PUk"
      }
    },
    {
      "cell_type": "markdown",
      "source": [
        "#Q22\n",
        "@staticmethod: No access to self or cls. It is just a method that belongs to the class.\n",
        "@classmethod: Has access to cls, allowing it to modify class state and access class variables.\n",
        "Use @staticmethod when you don't need to access class or instance data, and use @classmethod when you need to work with class-level data."
      ],
      "metadata": {
        "id": "tv6zrpAM_BDG"
      }
    },
    {
      "cell_type": "markdown",
      "source": [
        "#Q23\n",
        "Polymorphism in Python, particularly in the context of inheritance, refers to the ability of different classes to be treated as instances of the same class through a common interface. This is often achieved through method overriding, where a subclass provides a specific implementation of a method that is already defined in its superclass.\n",
        "\n"
      ],
      "metadata": {
        "id": "F-WbBYAL_TyY"
      }
    },
    {
      "cell_type": "markdown",
      "source": [
        "#Q24\n",
        "Method chaining in Python (and in object-oriented programming in general) refers to a technique where multiple method calls are made on the same object in a single statement. This is possible because each method returns the object itself (usually self), allowing the next method to be called directly on the result of the previous method.\n",
        "\n"
      ],
      "metadata": {
        "id": "sqEXTR4JFmuQ"
      }
    },
    {
      "cell_type": "markdown",
      "source": [
        "#PRACTICAL QUESTIONS."
      ],
      "metadata": {
        "id": "iiil4kRw_nGB"
      }
    },
    {
      "cell_type": "code",
      "source": [
        "#Q1\n",
        "#Parent class\n",
        "class Animal:\n",
        "    def speak(self):\n",
        "        print(\"This animal makes a sound.\")\n",
        "\n",
        "# Child class\n",
        "class Dog(Animal):\n",
        "    def speak(self):\n",
        "        print(\"Bark!\")\n",
        "\n",
        "# Example usage\n",
        "if __name__ == \"__main__\":\n",
        "    animal = Animal()\n",
        "    animal.speak()  # Output: This animal makes a sound.\n",
        "\n",
        "    dog = Dog()\n",
        "    dog.speak()"
      ],
      "metadata": {
        "id": "cVmmho_d_tC0",
        "colab": {
          "base_uri": "https://localhost:8080/"
        },
        "outputId": "1021c392-0cac-4d19-fe07-a24005d73f69"
      },
      "execution_count": null,
      "outputs": [
        {
          "output_type": "stream",
          "name": "stdout",
          "text": [
            "This animal makes a sound.\n",
            "Bark!\n"
          ]
        }
      ]
    },
    {
      "cell_type": "code",
      "source": [
        "#Q2\n",
        "from abc import ABC, abstractmethod\n",
        "import math\n",
        "\n",
        "# Abstract class\n",
        "class Shape(ABC):\n",
        "    @abstractmethod\n",
        "    def area(self):\n",
        "        pass\n",
        "\n",
        "# Derived class for Circle\n",
        "class Circle(Shape):\n",
        "    def __init__(self, radius):\n",
        "        self.radius = radius\n",
        "\n",
        "    def area(self):\n",
        "        return math.pi * (self.radius ** 2)\n",
        "\n",
        "# Derived class for Rectangle\n",
        "class Rectangle(Shape):\n",
        "    def __init__(self, width, height):\n",
        "        self.width = width\n",
        "        self.height = height\n",
        "\n",
        "    def area(self):\n",
        "        return self.width * self.height\n",
        "\n",
        "# Example usage\n",
        "if __name__ == \"__main__\":\n",
        "    circle = Circle(5)\n",
        "    rectangle = Rectangle(4, 6)\n",
        "\n",
        "    print(f\"Area of Circle: {circle.area():.2f}\")\n",
        "    print(f\"Area of Rectangle: {rectangle.area():.2f}\")\n"
      ],
      "metadata": {
        "colab": {
          "base_uri": "https://localhost:8080/"
        },
        "id": "XoExCZNpdy2A",
        "outputId": "19605987-cd18-41c6-ddd5-644a07e0a29a"
      },
      "execution_count": null,
      "outputs": [
        {
          "output_type": "stream",
          "name": "stdout",
          "text": [
            "Area of Circle: 78.54\n",
            "Area of Rectangle: 24.00\n"
          ]
        }
      ]
    },
    {
      "cell_type": "code",
      "source": [
        "#Q3\n",
        "# **Class Structure**:\n",
        "#   - `Vehicle`: Base class with a `vehicle_type` attribute.\n",
        "#   - `Car`: Inherits from `Vehicle`, adds `make` and `model` attributes.\n",
        "#   - `ElectricCar`: Inherits from `Car`, adds `battery_size` attribute.\n",
        "\n",
        "# **Functionality**:\n",
        "#   - Each class has methods to display its attributes, demonstrating the multi-level inheritance effectively.\n",
        "class Vehicle:\n",
        "    def __init__(self, vehicle_type):\n",
        "        self.vehicle_type = vehicle_type\n",
        "\n",
        "    def display_info(self):\n",
        "        print(f\"Vehicle Type: {self.vehicle_type}\")\n",
        "\n",
        "class Car(Vehicle):\n",
        "    def __init__(self, vehicle_type, make, model):\n",
        "        super().__init__(vehicle_type)\n",
        "        self.make = make\n",
        "        self.model = model\n",
        "\n",
        "    def display_info(self):\n",
        "        super().display_info()\n",
        "        print(f\"Make: {self.make}\")\n",
        "        print(f\"Model: {self.model}\")\n",
        "\n",
        "class ElectricCar(Car):\n",
        "    def __init__(self, vehicle_type, make, model, battery_size):\n",
        "        super().__init__(vehicle_type, make, model)\n",
        "        self.battery_size = battery_size\n",
        "\n",
        "    def display_info(self):\n",
        "        super().display_info()\n",
        "        print(f\"Battery Size: {self.battery_size}\")\n",
        "\n",
        "\n",
        "\n"
      ],
      "metadata": {
        "id": "lMylLxtbefff"
      },
      "execution_count": null,
      "outputs": []
    },
    {
      "cell_type": "code",
      "source": [
        "#Q4\n",
        "class Vehicle:\n",
        "    def __init__(self, vehicle_type):\n",
        "        self.vehicle_type = vehicle_type\n",
        "\n",
        "    def display_info(self):\n",
        "        return f\"Vehicle Type: {self.vehicle_type}\"\n",
        "\n",
        "\n",
        "class Car(Vehicle):\n",
        "    def __init__(self, vehicle_type, brand, model):\n",
        "        super().__init__(vehicle_type)  # Call the constructor of Vehicle\n",
        "        self.brand = brand\n",
        "        self.model = model\n",
        "\n",
        "    def display_info(self):\n",
        "        vehicle_info = super().display_info()  # Call the display_info of Vehicle\n",
        "        return f\"{vehicle_info}, Brand: {self.brand}, Model: {self.model}\"\n",
        "\n",
        "\n",
        "class ElectricCar(Car):\n",
        "    def __init__(self, vehicle_type, brand, model, battery_capacity):\n",
        "        super().__init__(vehicle_type, brand, model)  # Call the constructor of Car\n",
        "        self.battery_capacity = battery_capacity\n",
        "\n",
        "    def display_info(self):\n",
        "        car_info = super().display_info()  # Call the display_info of Car\n",
        "        return f\"{car_info}, Battery Capacity: {self.battery_capacity} kWh\"\n",
        "\n",
        "\n",
        "# Example usage\n",
        "if __name__ == \"__main__\":\n",
        "    my_vehicle = Vehicle(\"General Vehicle\")\n",
        "    print(my_vehicle.display_info())\n",
        "\n",
        "    my_car = Car(\"Car\", \"Toyota\", \"Corolla\")\n",
        "    print(my_car.display_info())\n",
        "\n",
        "    my_electric_car = ElectricCar(\"Electric Car\", \"Tesla\", \"Model S\", 100)\n",
        "    print(my_electric_car.display_info())"
      ],
      "metadata": {
        "colab": {
          "base_uri": "https://localhost:8080/"
        },
        "id": "JCXJphRXfnOu",
        "outputId": "36bcb569-3bd7-4987-f5bc-2335d9c68cb4"
      },
      "execution_count": null,
      "outputs": [
        {
          "output_type": "stream",
          "name": "stdout",
          "text": [
            "Vehicle Type: General Vehicle\n",
            "Vehicle Type: Car, Brand: Toyota, Model: Corolla\n",
            "Vehicle Type: Electric Car, Brand: Tesla, Model: Model S, Battery Capacity: 100 kWh\n"
          ]
        }
      ]
    },
    {
      "cell_type": "code",
      "source": [
        "#Q5\n",
        "class BankAccount:\n",
        "    def __init__(self):\n",
        "        # Private attribute\n",
        "        self.__balance = 0.0\n",
        "\n",
        "    def deposit(self, amount):\n",
        "        \"\"\"Deposit money into the account.\"\"\"\n",
        "        if amount > 0:\n",
        "            self.__balance += amount\n",
        "            print(f\"Deposited: ${amount:.2f}\")\n",
        "        else:\n",
        "            print(\"Deposit amount must be positive.\")\n",
        "\n",
        "    def withdraw(self, amount):\n",
        "        \"\"\"Withdraw money from the account.\"\"\"\n",
        "        if amount > 0:\n",
        "            if amount <= self.__balance:\n",
        "                self.__balance -= amount\n",
        "                print(f\"Withdrew: ${amount:.2f}\")\n",
        "            else:\n",
        "                print(\"Insufficient funds.\")\n",
        "        else:\n",
        "            print(\"Withdrawal amount must be positive.\")\n",
        "\n",
        "    def check_balance(self):\n",
        "        \"\"\"Check the current balance.\"\"\"\n",
        "        print(f\"Current balance: ${self.__balance:.2f}\")\n",
        "\n",
        "# Example usage\n",
        "if __name__ == \"__main__\":\n",
        "    account = BankAccount()\n",
        "\n",
        "    account.check_balance()  # Check initial balance\n",
        "    account.deposit(100)     # Deposit money\n",
        "    account.check_balance()  # Check balance after deposit\n",
        "    account.withdraw(50)     # Withdraw money\n",
        "    account.check_balance()  # Check balance after withdrawal\n",
        "    account.withdraw(100)    # Attempt to withdraw more than balance\n"
      ],
      "metadata": {
        "colab": {
          "base_uri": "https://localhost:8080/"
        },
        "id": "M8MEqL8OgL-G",
        "outputId": "25206d56-a52d-4efe-aa21-fad726065de7"
      },
      "execution_count": null,
      "outputs": [
        {
          "output_type": "stream",
          "name": "stdout",
          "text": [
            "Current balance: $0.00\n",
            "Deposited: $100.00\n",
            "Current balance: $100.00\n",
            "Withdrew: $50.00\n",
            "Current balance: $50.00\n",
            "Insufficient funds.\n"
          ]
        }
      ]
    },
    {
      "cell_type": "code",
      "source": [
        "#Q7\n",
        "class MathOperations:\n",
        "    @classmethod\n",
        "    def add_numbers(cls, a, b):\n",
        "        \"\"\"Class method to add two numbers.\"\"\"\n",
        "        return a + b\n",
        "\n",
        "    @staticmethod\n",
        "    def subtract_numbers(a, b):\n",
        "        \"\"\"Static method to subtract two numbers.\"\"\"\n",
        "        return a - b\n",
        "\n",
        "# Example usage:\n",
        "if __name__ == \"__main__\":\n",
        "    sum_result = MathOperations.add_numbers(5, 3)\n",
        "    print(f\"Sum: {sum_result}\")  # Output: Sum: 8\n",
        "\n",
        "    difference_result = MathOperations.subtract_numbers(5, 3)\n",
        "    print(f\"Difference: {difference_result}\")  # Output: Difference: 2\n"
      ],
      "metadata": {
        "colab": {
          "base_uri": "https://localhost:8080/"
        },
        "id": "UOdB9SpVgjRW",
        "outputId": "6a5db8cd-984d-47f8-b7ea-30870e873d04"
      },
      "execution_count": null,
      "outputs": [
        {
          "output_type": "stream",
          "name": "stdout",
          "text": [
            "Sum: 8\n",
            "Difference: 2\n"
          ]
        }
      ]
    },
    {
      "cell_type": "code",
      "source": [
        "#Q8\n",
        "class Person:\n",
        "    # Class variable to keep track of the number of Person instances\n",
        "    _count = 0\n",
        "\n",
        "    def __init__(self, name):\n",
        "        self.name = name\n",
        "        # Increment the count each time a new Person is created\n",
        "        Person._count += 1\n",
        "\n",
        "    @classmethod\n",
        "    def get_count(cls):\n",
        "        \"\"\"Class method to return the total number of Person instances created.\"\"\"\n",
        "        return cls._count\n",
        "\n",
        "# Example usage:\n",
        "if __name__ == \"__main__\":\n",
        "    person1 = Person(\"Alice\")\n",
        "    person2 = Person(\"Bob\")\n",
        "    person3 = Person(\"Charlie\")\n",
        "\n",
        "    print(f\"Total number of persons created: {Person.get_count()}\")"
      ],
      "metadata": {
        "colab": {
          "base_uri": "https://localhost:8080/"
        },
        "id": "Kh1y9MzGhBGr",
        "outputId": "34284e57-ee14-479c-9c9e-fbebba51928e"
      },
      "execution_count": null,
      "outputs": [
        {
          "output_type": "stream",
          "name": "stdout",
          "text": [
            "Total number of persons created: 3\n"
          ]
        }
      ]
    },
    {
      "cell_type": "code",
      "source": [
        "#Q9\n",
        "class Fraction:\n",
        "    def __init__(self, numerator, denominator):\n",
        "        if denominator == 0:\n",
        "            raise ValueError(\"Denominator cannot be zero.\")\n",
        "        self.numerator = numerator\n",
        "        self.denominator = denominator\n",
        "\n",
        "    def __str__(self):\n",
        "        return f\"{self.numerator}/{self.denominator}\"\n"
      ],
      "metadata": {
        "id": "ps1ydTrBhPNa"
      },
      "execution_count": null,
      "outputs": []
    },
    {
      "cell_type": "code",
      "source": [
        "#Q10\n",
        "class Vector:\n",
        "    def __init__(self, x, y):\n",
        "        self.x = x\n",
        "        self.y = y\n",
        "\n",
        "    def __add__(self, other):\n",
        "        if isinstance(other, Vector):\n",
        "            return Vector(self.x + other.x, self.y + other.y)\n",
        "        return NotImplemented\n",
        "\n",
        "    def __repr__(self):\n",
        "        return f\"Vector({self.x}, {self.y})\"\n",
        "\n",
        "# Example usage:\n",
        "v1 = Vector(2, 3)\n",
        "v2 = Vector(4, 5)\n",
        "\n",
        "v3 = v1 + v2  # This will call the __add__ method\n",
        "print(v3)"
      ],
      "metadata": {
        "colab": {
          "base_uri": "https://localhost:8080/"
        },
        "id": "lewO_Ga3hovG",
        "outputId": "c7116728-6d83-4a0d-fc78-a9a5528c8d1b"
      },
      "execution_count": null,
      "outputs": [
        {
          "output_type": "stream",
          "name": "stdout",
          "text": [
            "Vector(6, 8)\n"
          ]
        }
      ]
    },
    {
      "cell_type": "code",
      "source": [
        "#Q12\n",
        "class Student:\n",
        "    def __init__(self, name, grades=None):\n",
        "        self.name = name\n",
        "        # Initialize grades as an empty list if not provided\n",
        "        self.grades = grades if grades is not None else []\n",
        "\n",
        "    def average_grade(self):\n",
        "        if not self.grades:  # Check if the grades list is empty\n",
        "            return 0  # Return 0 or you could raise an exception if preferred\n",
        "        return sum(self.grades) / len(self.grades)\n",
        "\n",
        "    def add_grade(self, grade):\n",
        "        \"\"\"Method to add a grade to the student's list of grades.\"\"\"\n",
        "        self.grades.append(grade)\n",
        "\n",
        "    def __str__(self):\n",
        "        return f\"Student: {self.name}, Grades: {self.grades}, Average: {self.average_grade():.2f}\"\n",
        "\n"
      ],
      "metadata": {
        "id": "GoAVwThbiC0t"
      },
      "execution_count": null,
      "outputs": []
    },
    {
      "cell_type": "code",
      "source": [
        "#Q13\n",
        "class Rectangle:\n",
        "    def __init__(self):\n",
        "        self.width = 0\n",
        "        self.height = 0\n",
        "\n",
        "    def set_dimensions(self, width, height):\n",
        "        \"\"\"Set the dimensions of the rectangle.\"\"\"\n",
        "        self.width = width\n",
        "        self.height = height\n",
        "\n",
        "    def area(self):\n",
        "        \"\"\"Calculate and return the area of the rectangle.\"\"\"\n",
        "        return self.width * self.height\n",
        "\n"
      ],
      "metadata": {
        "id": "rCnaIQcRigh5"
      },
      "execution_count": null,
      "outputs": []
    },
    {
      "cell_type": "code",
      "source": [
        "#Q14\n",
        "class Employee:\n",
        "    def __init__(self, name, hours_worked, hourly_rate):\n",
        "        self.name = name\n",
        "        self.hours_worked = hours_worked\n",
        "        self.hourly_rate = hourly_rate\n",
        "\n",
        "    def calculate_salary(self):\n",
        "        return self.hours_worked * self.hourly_rate\n",
        "\n",
        "\n",
        "class Manager(Employee):\n",
        "    def __init__(self, name, hours_worked, hourly_rate, bonus):\n",
        "        super().__init__(name, hours_worked, hourly_rate)\n",
        "        self.bonus = bonus\n",
        "\n",
        "    def calculate_salary(self):\n",
        "        base_salary = super().calculate_salary()\n",
        "        return base_salary + self.bonus\n",
        "\n",
        "\n"
      ],
      "metadata": {
        "id": "VS353d37iv3k"
      },
      "execution_count": null,
      "outputs": []
    },
    {
      "cell_type": "code",
      "source": [
        "#Q15\n",
        "class Product:\n",
        "    def __init__(self, name, price, quantity):\n",
        "        self.name = name\n",
        "        self.price = price\n",
        "        self.quantity = quantity\n",
        "\n",
        "    def total_price(self):\n",
        "        return self.price * self.quantity\n",
        "\n",
        "if __name__ == \"__main__\": # Identation fixed here\n",
        "    product = Product(\"Laptop\", 999.99, 2)\n",
        "    print(f\"Total price for {product.quantity} {product.name}(s): ${product.total_price():.2f}\")"
      ],
      "metadata": {
        "colab": {
          "base_uri": "https://localhost:8080/"
        },
        "id": "YwikM0oejSPR",
        "outputId": "c348d36c-dbe0-4a99-e20e-7622e80461d7"
      },
      "execution_count": null,
      "outputs": [
        {
          "output_type": "stream",
          "name": "stdout",
          "text": [
            "Total price for 2 Laptop(s): $1999.98\n"
          ]
        }
      ]
    },
    {
      "cell_type": "code",
      "source": [
        "#Q17\n",
        "class Book:\n",
        "    def __init__(self, title, author, year_published):\n",
        "        self.title = title\n",
        "        self.author = author\n",
        "        self.year_published = year_published\n",
        "\n",
        "    def get_book_info(self):\n",
        "        return f\"'{self.title}' by {self.author}, published in {self.year_published}.\"\n",
        "if __name__ == \"__main__\":\n",
        "    book1 = Book(\"To Kill a Mockingbird\", \"Harper Lee\", 1960)\n",
        "    print(book1.get_book_info())\n",
        "\n"
      ],
      "metadata": {
        "id": "1x08wcjNkXvL",
        "colab": {
          "base_uri": "https://localhost:8080/"
        },
        "outputId": "bf7c24ed-ea0b-4787-a06e-c1ba9128ea8e"
      },
      "execution_count": 1,
      "outputs": [
        {
          "output_type": "stream",
          "name": "stdout",
          "text": [
            "'To Kill a Mockingbird' by Harper Lee, published in 1960.\n"
          ]
        }
      ]
    },
    {
      "cell_type": "code",
      "source": [
        "#Q18\n",
        "class House:\n",
        "    def __init__(self, address, price):\n",
        "        self.address = address\n",
        "        self.price = price\n",
        "\n",
        "    def display_info(self):\n",
        "        return f\"House Address: {self.address}, Price: ${self.price}\"\n",
        "\n",
        "class Mansion(House):\n",
        "    def __init__(self, address, price, number_of_rooms):\n",
        "        super().__init__(address, price)  # Call the constructor of the base class\n",
        "        self.number_of_rooms = number_of_rooms\n",
        "\n",
        "    def display_info(self):\n",
        "        base_info = super().display_info()  # Get the base class info\n",
        "        return f\"{base_info}, Number of Rooms: {self.number_of_rooms}\"\n",
        "if __name__ == \"__main__\":\n",
        "    my_house = House(\"123 Main St\", 250000)\n",
        "    print(my_house.display_info())\n",
        "\n",
        "    my_mansion = Mansion(\"456 Luxury Ave\", 1500000, 10)\n",
        "    print(my_mansion.display_info())\n",
        "\n"
      ],
      "metadata": {
        "colab": {
          "base_uri": "https://localhost:8080/"
        },
        "id": "Cfkv4ESZEMHs",
        "outputId": "ace205e4-cc09-4123-b7cf-ce4af18a9eff"
      },
      "execution_count": 3,
      "outputs": [
        {
          "output_type": "stream",
          "name": "stdout",
          "text": [
            "House Address: 123 Main St, Price: $250000\n",
            "House Address: 456 Luxury Ave, Price: $1500000, Number of Rooms: 10\n"
          ]
        }
      ]
    },
    {
      "cell_type": "code",
      "source": [
        "#Q16\n",
        "from abc import ABC, abstractmethod\n",
        "\n",
        "# Abstract class\n",
        "class Animal(ABC):\n",
        "    @abstractmethod\n",
        "    def sound(self):\n",
        "        pass\n",
        "\n",
        "# Derived class Cow\n",
        "class Cow(Animal):\n",
        "    def sound(self):\n",
        "        return \"Moo\"\n",
        "\n",
        "# Derived class Sheep\n",
        "class Sheep(Animal):\n",
        "    def sound(self):\n",
        "        return \"Baa\"\n",
        "\n",
        "# Example usage\n",
        "if __name__ == \"__main__\":\n",
        "    my_cow = Cow()\n",
        "    my_sheep = Sheep()\n",
        "\n",
        "    print(\"Cow sound:\", my_cow.sound())\n",
        "    print(\"Sheep sound:\", my_sheep.sound())"
      ],
      "metadata": {
        "colab": {
          "base_uri": "https://localhost:8080/"
        },
        "id": "eMDEHRw5Etp4",
        "outputId": "4c10bbec-596c-4db0-f49b-8a08a3fccd64"
      },
      "execution_count": 4,
      "outputs": [
        {
          "output_type": "stream",
          "name": "stdout",
          "text": [
            "Cow sound: Moo\n",
            "Sheep sound: Baa\n"
          ]
        }
      ]
    }
  ]
}